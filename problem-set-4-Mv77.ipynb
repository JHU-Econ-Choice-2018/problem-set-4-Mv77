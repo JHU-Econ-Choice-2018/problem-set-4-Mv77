{
 "cells": [
  {
   "cell_type": "markdown",
   "metadata": {},
   "source": [
    "# Intertemporal Choice Problem Set 4\n",
    "\n",
    "## Mateo Velásquez-Giraldo\n",
    "\n",
    "## 1. Buffer Stock Saving and Balance Sheets\n",
    "\n",
    "## a)\n",
    "\n",
    "### i.)\n",
    "\n",
    "The lender is guaranteed to be able to seize payments of up to $N_0$ for the rest of the consumers' life, since if:\n",
    "\n",
    "- The consumer remains employed his income will be $l_0 W_0>N_0$.\n",
    "- The consumer becomes unemployed, his income will forever be $N_0$.\n",
    "\n",
    "Thus, if the lender is infinitely risk averse and weights the posibility of the agent becoming unemployed as the only and worse case scenario, he will still be willing to lend the consumer any ammount up to $$\\sum_{t=1}^\\infty \\frac{N_0}{R^t}$$ which is the present value of the minimum stream of income he is guaranteed to be able to sieze and begins at $t=1$ because the consumer can only default and be seized in the period after the loan. Notice that\n",
    "\n",
    "$$\\sum_{t=1}^\\infty \\frac{N_0}{R^t}=N_0(\\frac{1}{1-1/R}-1)=N_0(\\frac{R}{r}-1) = \\frac{N_0}{r}$$\n",
    "\n",
    "### ii.)\n",
    "\n",
    "An agent that becomes unemployed on period $0$ will behave as a perfect foresight consumer with a permanent income of $N_0$. His human wealth will be $H_0 = N_0 R/r$ and his bank balances will be $B_0 = A_{-1} R$.\n",
    "\n",
    "The return impatience condition guarantees that the consumption solution is well defined for this problem and has the form \n",
    "\n",
    "\\begin{equation}\n",
    "c_0 = \\left(A_{-1}R + N_0\\frac{R}{r}\\right)\\times\\frac{R - (R\\beta)^{1/\\rho}}{R} = R\\left(A_{-1} + \\frac{N_0}{r}\\right)\\times\\left(1 - \\frac{(R\\beta)^{1/\\rho}}{R}\\right)\n",
    "\\end{equation}\n",
    "\n",
    "from which is clear that, if $A_{-1}>-N_0/r$, the return impatience condition $(R\\beta)^{1/\\rho}/R<1$ guarantees $c_0>0$.\n",
    "\n",
    "The return impatience condition also guarantees that, as in the infinite horizon perfect foresight model, consumption will evolve according to\n",
    "\n",
    "\\begin{equation}\n",
    "c_{t+1} = c_t \\times (R\\beta)^{1/\\rho}\n",
    "\\end{equation}\n",
    "\n",
    "which, considering that $c_0$ is positive, guarantees a perpetual stream of strictly positive consumption for the unemployed consumer.\n",
    "\n",
    "### iii.)\n",
    "\n",
    "The unemployed consumer behaves as a perfect foresight consumer and therefore, only the present value of his overall wealth matters for determining his consumption path.\n",
    "\n",
    "The lump sum $N_0 R/r$ is exactly the present discounted value of a permanent $N_0$ income:\n",
    "\n",
    "$$\\sum_{t=0}^\\infty \\frac{N_0}{R^t} = N_0\\frac{1}{1-1/R} = N_0 R/r.$$\n",
    "\n",
    "Therefore, the permanent $N_0$ payments and the lump-sum transfer both produce exactly the same present value of overall wealth for the unemployed consumer and thus generate the same consumption path.\n",
    "\n",
    "### iv.)\n",
    "\n",
    "Using the definitions of $\\underline{h}_{-1}$, $N_0$, and the growth rate of income, we have \n",
    "\n",
    "\\begin{align}\n",
    "\\underline{h}_{-1} = \\frac{N_0/r}{l_{-1}W_{-1}} = \\frac{\\eta l_0W_0/r}{l_{-1}W_{-1}} = \\frac{\\eta}{r} \\frac{l_0W_0}{l_{-1}W_{-1}} = \\frac{\\eta\\Gamma}{r},\n",
    "\\end{align}\n",
    "\n",
    "which is the desired result."
   ]
  },
  {
   "cell_type": "markdown",
   "metadata": {},
   "source": [
    "## 2. Asset Pricing In A Financial Crisis\n",
    "\n"
   ]
  }
 ],
 "metadata": {
  "kernelspec": {
   "display_name": "Python 3",
   "language": "python",
   "name": "python3"
  },
  "language_info": {
   "codemirror_mode": {
    "name": "ipython",
    "version": 3
   },
   "file_extension": ".py",
   "mimetype": "text/x-python",
   "name": "python",
   "nbconvert_exporter": "python",
   "pygments_lexer": "ipython3",
   "version": "3.6.6"
  }
 },
 "nbformat": 4,
 "nbformat_minor": 2
}
